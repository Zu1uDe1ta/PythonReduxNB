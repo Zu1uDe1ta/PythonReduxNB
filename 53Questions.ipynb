{
 "cells": [
  {
   "cell_type": "markdown",
   "metadata": {},
   "source": [
    "# 53 Python Interview Questions and Answers\n",
    "## Python questions for data scientist and software engineers\n",
    "\n",
    "Not so long ago I started a new role as a “Data Scientist” which turned out to be “Python Engineer” in practice.\n",
    "\n",
    "I would have been more prepared if I’d brushed up on Python’s thread lifecycle instead of recommender systems in advance.\n",
    "\n",
    "In that spirit, here are my python interview/job preparation questions and answers. Most data scientists write a lot code so this applies to both scientists and engineers.\n",
    "\n",
    "Whether you’re interviewing candidates, preparing to apply to jobs or just brushing up on Python, I think this list will be invaluable.\n",
    "\n",
    "Questions are unordered. Let’s begin."
   ]
  },
  {
   "cell_type": "markdown",
   "metadata": {},
   "source": [
    "### (1) What is the difference between a list and a tuple?\n",
    "\n",
    "I’ve been asked this question in every python / data science interview I’ve ever had. Know the answer like the back of your hand.\n",
    "\n",
    "- Lists are mutable. They can be modified after creation.\n",
    "- Tuples are immutable. Once a tuple is created it cannot by changed\n",
    "- Lists have order. They are an ordered sequences, typically of the same type of object. Ie: all user names ordered by creation date, ```[\"Seth\", \"Ema\", \"Eli\"]```\n",
    "- Tuples have structure. Different data types may exist at each index. Ie: a database record in memory, ```(2, \"Ema\", \"2020–04–16\") # id, name, created_at```"
   ]
  },
  {
   "cell_type": "code",
   "execution_count": 2,
   "metadata": {},
   "outputs": [
    {
     "ename": "SyntaxError",
     "evalue": "unexpected EOF while parsing (<ipython-input-2-63d5714c808a>, line 11)",
     "output_type": "error",
     "traceback": [
      "\u001b[0;36m  File \u001b[0;32m\"<ipython-input-2-63d5714c808a>\"\u001b[0;36m, line \u001b[0;32m11\u001b[0m\n\u001b[0;31m    \u001b[0m\n\u001b[0m    ^\u001b[0m\n\u001b[0;31mSyntaxError\u001b[0m\u001b[0;31m:\u001b[0m unexpected EOF while parsing\n"
     ]
    }
   ],
   "source": [
    "#!/bin/python3\n",
    "\n",
    "import math\n",
    "import os\n",
    "import random\n",
    "import re\n",
    "import sys\n",
    "\n",
    "# Complete the hourglassSum function below.\n",
    "def hourglassSum(arr):\n",
    "\n"
   ]
  },
  {
   "cell_type": "markdown",
   "metadata": {},
   "source": [
    "### (2) How is string interpolation performed?\n",
    "\n",
    "Without importing the ```Template``` class, there are 3 ways to interpolate strings. \n",
    "\n",
    "\n",
    "```\n",
    "name = `Chris`\n",
    "\n",
    "#1. f string\n",
    "print(f'Hello {name}')\n",
    "\n",
    "#2. % operator\n",
    "print('Hey %s %s' % (name, name))\n",
    "\n",
    "#3. format\n",
    "print(\n",
    "\"My name is {}\".format((name))\n",
    ")\n",
    "```\n",
    "\n",
    "### (3) What is the difference between \"is\" and \"==\"?\n",
    "\n",
    "Early in my python career I assumed these were the same...hello bugs. So for the record, ```is``` checks identity and ```==``` checkes equality. \n",
    "\n",
    "We'll walk through an example. Create some lists and assign them to names. Note that ```b``` points to the same object as ```a``` in below. \n",
    "\n",
    "```\n",
    "\n",
    "```\n"
   ]
  },
  {
   "cell_type": "code",
   "execution_count": 1,
   "metadata": {},
   "outputs": [],
   "source": [
    "a = [1,2,3]\n",
    "b = a \n",
    "c = [1, 2, 3]"
   ]
  },
  {
   "cell_type": "markdown",
   "metadata": {},
   "source": [
    "check equality and note they are all equal. "
   ]
  },
  {
   "cell_type": "code",
   "execution_count": 2,
   "metadata": {},
   "outputs": [
    {
     "name": "stdout",
     "output_type": "stream",
     "text": [
      "True\n",
      "True\n"
     ]
    }
   ],
   "source": [
    "print(a == b)\n",
    "print(a == c)\n",
    "#=> True\n",
    "#=> True"
   ]
  },
  {
   "cell_type": "markdown",
   "metadata": {},
   "source": [
    "We can verify this by printing their object id's. "
   ]
  },
  {
   "cell_type": "code",
   "execution_count": 3,
   "metadata": {},
   "outputs": [
    {
     "name": "stdout",
     "output_type": "stream",
     "text": [
      "4375724592\n",
      "4375724592\n",
      "4375726032\n"
     ]
    }
   ],
   "source": [
    "print(id(a))\n",
    "print(id(b))\n",
    "print(id(c))\n",
    "#=> 4369567560\n",
    "#=> 4369567560\n",
    "#=> 4369567624"
   ]
  },
  {
   "cell_type": "markdown",
   "metadata": {},
   "source": [
    "```c``` has a different ```id``` than ```a``` and ```b``"
   ]
  },
  {
   "cell_type": "markdown",
   "metadata": {},
   "source": [
    "### (4) What is a decorator?\n",
    "\n",
    "Another question I've been asked in every interview. It deserves a post in itself, but you're prepared if you can walk through writing your own example. \n",
    "\n",
    "A decorator allows adding functionality to an existing function by passing that existing function to a decorator, which executes the exting function as well as additional code. \n",
    "\n",
    "\n",
    "We'll write a decorator that logs when another function is called. \n",
    "\n",
    "**Write the decorator function.** This takes a function, ```func```, as an argument. It also defines a function, ```log_function_called```, which calls ```func()``` and executes some code, ```print(f'{func} called.')```. then it returns the function it defined.         "
   ]
  },
  {
   "cell_type": "code",
   "execution_count": 4,
   "metadata": {},
   "outputs": [],
   "source": [
    "def logging(func):                   \n",
    "    def log_function_called():       \n",
    "        print(f'{func} called.')      \n",
    "        func()                         \n",
    "    return log_function_called     "
   ]
  },
  {
   "cell_type": "markdown",
   "metadata": {},
   "source": [
    "Let’s write other functions that we’ll eventually add the decorator to (but not yet)."
   ]
  },
  {
   "cell_type": "code",
   "execution_count": 5,
   "metadata": {},
   "outputs": [
    {
     "name": "stdout",
     "output_type": "stream",
     "text": [
      "chris\n",
      "naruto\n"
     ]
    }
   ],
   "source": [
    "def my_name():\n",
    "  print('chris')\n",
    "def friends_name():\n",
    "  print('naruto')\n",
    "my_name()\n",
    "friends_name()\n",
    "#=> chris\n",
    "#=> naruto"
   ]
  },
  {
   "cell_type": "markdown",
   "metadata": {},
   "source": [
    "Now add the decorator to both. "
   ]
  },
  {
   "cell_type": "code",
   "execution_count": 6,
   "metadata": {},
   "outputs": [
    {
     "name": "stdout",
     "output_type": "stream",
     "text": [
      "<function my_name at 0x104d284d0> called.\n",
      "chris\n",
      "<function friends_name at 0x104d283b0> called.\n",
      "naruto\n"
     ]
    }
   ],
   "source": [
    "@logging\n",
    "def my_name():\n",
    " print('chris')\n",
    "@logging\n",
    "def friends_name():\n",
    " print('naruto')\n",
    "my_name()\n",
    "friends_name()\n",
    "#=> <function my_name at 0x10fca5a60> called.\n",
    "#=> chris\n",
    "#=> <function friends_name at 0x10fca5f28> called.\n",
    "#=> naruto"
   ]
  },
  {
   "cell_type": "markdown",
   "metadata": {},
   "source": [
    "See how we can now easily add logging to any function we write just by adding ```@logging``` above it."
   ]
  },
  {
   "cell_type": "markdown",
   "metadata": {},
   "source": [
    "### 5. Explain the range function \n",
    "\n",
    "Range generates a list of integes and there are 3 ways to use it. \n",
    "\n",
    "The function takes 1 to 3 arguments. Note I've wrapped each usage in list comprehension so we can see the values generated. \n",
    "\n",
    "```range(stop)```: generate integers from 0 to the \"stop\" integer. "
   ]
  },
  {
   "cell_type": "code",
   "execution_count": 9,
   "metadata": {},
   "outputs": [
    {
     "data": {
      "text/plain": [
       "[0, 1, 2, 3, 4, 5, 6, 7, 8, 9]"
      ]
     },
     "execution_count": 9,
     "metadata": {},
     "output_type": "execute_result"
    }
   ],
   "source": [
    "[i for i in range(10)]\n",
    "#=> [0, 1, 2, 3, 4, 5, 6, 7, 8, 9]"
   ]
  },
  {
   "cell_type": "markdown",
   "metadata": {},
   "source": [
    "```range(start, stop)```: generate integers from the \"start\" to the \"stop\" integer. "
   ]
  },
  {
   "cell_type": "code",
   "execution_count": 11,
   "metadata": {},
   "outputs": [
    {
     "data": {
      "text/plain": [
       "[2, 3, 4, 5, 6, 7, 8, 9]"
      ]
     },
     "execution_count": 11,
     "metadata": {},
     "output_type": "execute_result"
    }
   ],
   "source": [
    "[i for i in range(2,10)]\n",
    "#=> [2, 3, 4, 5, 6, 7, 8, 9]"
   ]
  },
  {
   "cell_type": "markdown",
   "metadata": {},
   "source": [
    "```range(start, stop, step)```: generate integers from \"start\" to \"stop\" at intervals of \"step\"."
   ]
  },
  {
   "cell_type": "code",
   "execution_count": 12,
   "metadata": {},
   "outputs": [
    {
     "data": {
      "text/plain": [
       "[2, 4, 6, 8]"
      ]
     },
     "execution_count": 12,
     "metadata": {},
     "output_type": "execute_result"
    }
   ],
   "source": [
    "[i for i in range(2,10,2)]\n",
    "#=> [2, 4, 6, 8]"
   ]
  },
  {
   "cell_type": "markdown",
   "metadata": {},
   "source": [
    "### 6. Define a class named car with 2 properties, \"color\" and \"speed\". Then create an instance and return speed. "
   ]
  },
  {
   "cell_type": "code",
   "execution_count": 13,
   "metadata": {},
   "outputs": [
    {
     "data": {
      "text/plain": [
       "'100mph'"
      ]
     },
     "execution_count": 13,
     "metadata": {},
     "output_type": "execute_result"
    }
   ],
   "source": [
    "class Car :\n",
    "    def __init__(self, color, speed):\n",
    "        self.color = color\n",
    "        self.speed = speed\n",
    "car = Car('red','100mph')\n",
    "car.speed\n",
    "#=> '100mph'"
   ]
  },
  {
   "cell_type": "markdown",
   "metadata": {},
   "source": [
    "### 7. What is the difference between instance, static and class methods in python?\n",
    "\n",
    "***Instance methods***: accept ```self``` parameter and relate to a specific instance of the class. \n",
    "\n",
    "***Static Methods***: use ```@staticmethod``` decorator, are not related to a specific instance, and are self-contained (don't modify class or instance properties)\n",
    "\n",
    "***Class methods***: accept ```cls``` parameter and can modify the class itself\n",
    "\n",
    "We're going to illustrate the difference around a fictional ```CoffeeShop``` class. "
   ]
  },
  {
   "cell_type": "code",
   "execution_count": 15,
   "metadata": {},
   "outputs": [],
   "source": [
    "class CoffeeShop:\n",
    "    specialty = 'espresso'\n",
    "    \n",
    "    def __init__(self, coffee_price):\n",
    "        self.coffee_price = coffee_price\n",
    "    \n",
    "    # instance method\n",
    "    def make_coffee(self):\n",
    "        print(f'Making {self.specialty} for ${self.coffee_price}')\n",
    "    \n",
    "    # static method    \n",
    "    @staticmethod\n",
    "    def check_weather():\n",
    "        print('Its sunny')\n",
    "    # class method\n",
    "    @classmethod\n",
    "    def change_specialty(cls, specialty):\n",
    "        cls.specialty = specialty\n",
    "        print(f'Specialty changed to {specialty}')\n"
   ]
  },
  {
   "cell_type": "markdown",
   "metadata": {},
   "source": [
    "```CoffeeShop``` class has a property, ```specialty```, set to ```'espresso'``` by default. Each instance of ```CoffeeShop``` is initialized with a property ```coffee_price```. It also has 3 methods, an instance method, a static method and a class method. \n",
    "\n",
    "Let's intialize an instance of the coffee shop with a ```coffee_price``` of ```5```. Then call the instance method ```make_coffee```. "
   ]
  },
  {
   "cell_type": "code",
   "execution_count": 16,
   "metadata": {},
   "outputs": [
    {
     "name": "stdout",
     "output_type": "stream",
     "text": [
      "Making espresso for $5\n"
     ]
    }
   ],
   "source": [
    "coffee_shop = CoffeeShop('5')\n",
    "coffee_shop.make_coffee()\n",
    "#=> Making espresso for $5"
   ]
  },
  {
   "cell_type": "markdown",
   "metadata": {},
   "source": [
    "Now call the static method. Static methods can't modify class or instance state so they're normally used for utilitiy functions, for example, adding 2 numbers. We used ours to check the weather. ```its sunny```. Great!"
   ]
  },
  {
   "cell_type": "code",
   "execution_count": 17,
   "metadata": {},
   "outputs": [
    {
     "name": "stdout",
     "output_type": "stream",
     "text": [
      "Its sunny\n"
     ]
    }
   ],
   "source": [
    "coffee_shop.check_weather()\n",
    "#=> Its sunny"
   ]
  },
  {
   "cell_type": "markdown",
   "metadata": {},
   "source": [
    "Now let's use the class method to modify the coffee shop's specialty and then ```make_coffee```. "
   ]
  },
  {
   "cell_type": "code",
   "execution_count": 18,
   "metadata": {},
   "outputs": [
    {
     "name": "stdout",
     "output_type": "stream",
     "text": [
      "Specialty changed to drip coffee\n",
      "Making drip coffee for $5\n"
     ]
    }
   ],
   "source": [
    "coffee_shop.change_specialty('drip coffee')\n",
    "#=> Specialty changed to drip coffee\n",
    "coffee_shop.make_coffee()\n",
    "#=> Making drip coffee for $5"
   ]
  },
  {
   "cell_type": "markdown",
   "metadata": {},
   "source": [
    "Note how ```make_coffee``` used to make ```espresso```but now makes ```drip coffee```!"
   ]
  },
  {
   "cell_type": "markdown",
   "metadata": {},
   "source": [
    "### 8. What is the difference between \"func\" and \"func()\"?\n",
    "\n",
    "The purpose of this question is to see if you understand that all functions are also objects in python. "
   ]
  },
  {
   "cell_type": "code",
   "execution_count": 20,
   "metadata": {},
   "outputs": [
    {
     "name": "stdout",
     "output_type": "stream",
     "text": [
      "I'm a function\n"
     ]
    }
   ],
   "source": [
    "def func():\n",
    "    print('I\\'m a function')\n",
    "    \n",
    "func\n",
    "#=> function __main__.func>\n",
    "func()    \n",
    "#=> Im a function"
   ]
  },
  {
   "cell_type": "markdown",
   "metadata": {},
   "source": [
    "```func``` is the object representing the function which can be assigned to a variable or passed to another function. ```funct ()``` with parentheses calls the function and returns what it outputs. "
   ]
  },
  {
   "cell_type": "markdown",
   "metadata": {},
   "source": [
    "### 9. Explain how the map function works\n",
    "\n",
    "```map``` return a list made up of the return values from applying a function to every element in a sequence. "
   ]
  },
  {
   "cell_type": "code",
   "execution_count": 22,
   "metadata": {},
   "outputs": [
    {
     "data": {
      "text/plain": [
       "[4, 5, 6]"
      ]
     },
     "execution_count": 22,
     "metadata": {},
     "output_type": "execute_result"
    }
   ],
   "source": [
    "# this will add 3 to every value in the list \n",
    "def add_three(x):\n",
    "    return x + 3\n",
    "li = [1,2,3]\n",
    "[i for i in map(add_three, li)]\n",
    "#=> [4, 5, 6]"
   ]
  },
  {
   "cell_type": "markdown",
   "metadata": {},
   "source": [
    "### 10. Explain how the reduce function works \n",
    "\n",
    "This can be tricky to wrap your head around until you use it a few times. \n",
    "\n",
    "```reduce``` takes a function and a sequence and iterates over that sequence. On each iteration, both the current element and output from the previous element are passed to the function. In the end, a single value is returned. "
   ]
  },
  {
   "cell_type": "code",
   "execution_count": 23,
   "metadata": {},
   "outputs": [
    {
     "data": {
      "text/plain": [
       "11"
      ]
     },
     "execution_count": 23,
     "metadata": {},
     "output_type": "execute_result"
    }
   ],
   "source": [
    "from functools import reduce\n",
    "def add_three(x,y):\n",
    "    return x + y\n",
    "li = [1,2,3,5]\n",
    "reduce(add_three, li)\n",
    "#=> 11"
   ]
  },
  {
   "cell_type": "markdown",
   "metadata": {},
   "source": [
    "```m``` is returned which is the sum of ```1+2+3+5```. "
   ]
  },
  {
   "cell_type": "markdown",
   "metadata": {},
   "source": [
    "### 11. Explain how the filter function works\n",
    "\n",
    "Filter literally does what the name says. It filters elements in a sequence. \n",
    "\n",
    "Each element is passed to a function which is returned in the outputted sequence if the functions returns ```True``` and discarded if the function returns ```False```. "
   ]
  },
  {
   "cell_type": "code",
   "execution_count": 25,
   "metadata": {},
   "outputs": [
    {
     "data": {
      "text/plain": [
       "[2, 4, 6, 8]"
      ]
     },
     "execution_count": 25,
     "metadata": {},
     "output_type": "execute_result"
    }
   ],
   "source": [
    "# ALL ELEMENT NOT DIVISIBLE BY 2 WILL BE REMOVED\n",
    "def add_three(x):\n",
    "    if x % 2 == 0:\n",
    "        return True        \n",
    "    else:\n",
    "        return False\n",
    "li = [1,2,3,4,5,6,7,8]\n",
    "[i for i in filter(add_three, li)]\n",
    "#=> [2, 4, 6, 8]"
   ]
  },
  {
   "cell_type": "markdown",
   "metadata": {},
   "source": [
    "### 12. Does python call by reference or call by value?\n",
    "\n",
    "Be prepared to go down a rabbit hole of semantics if you google this question and read the top few pages. You're better off just having an idea of how it works. \n",
    "\n",
    "Immutable objects like strings, numbers and tuples are call-by-value. Notice how the value of ```name``` didn't change outside the function when modified inside. The value of ```name``` didn't change outside the function when modified inside. The value of ```name``` was assigned to a new block in memory for the scope of that function. "
   ]
  },
  {
   "cell_type": "code",
   "execution_count": 26,
   "metadata": {},
   "outputs": [
    {
     "name": "stdout",
     "output_type": "stream",
     "text": [
      "chris\n",
      "chr\n"
     ]
    }
   ],
   "source": [
    "name = 'chr'\n",
    "def add_chars(s):\n",
    "    s += 'is'\n",
    "    print(s)\n",
    "    \n",
    "add_chars(name)    \n",
    "print(name)\n",
    "#=> chris\n",
    "#=> chr"
   ]
  },
  {
   "cell_type": "markdown",
   "metadata": {},
   "source": [
    "Mutable objects like list are call-by-reference. Notice how the list defined outside the function was modified inside the function. The parameter in the function ponted to the original block in memory that sotred the value of ```li```. "
   ]
  },
  {
   "cell_type": "code",
   "execution_count": 27,
   "metadata": {},
   "outputs": [
    {
     "name": "stdout",
     "output_type": "stream",
     "text": [
      "[1, 2, 3]\n",
      "[1, 2, 3]\n"
     ]
    }
   ],
   "source": [
    "li = [1,2]\n",
    "def add_element(seq):\n",
    "    seq.append(3)\n",
    "    print(seq)\n",
    "    \n",
    "add_element(li)    \n",
    "print(li)\n",
    "#=> [1, 2, 3]\n",
    "#=> [1, 2, 3]"
   ]
  },
  {
   "cell_type": "markdown",
   "metadata": {},
   "source": [
    "### 13. How to reverse a list?\n",
    "\n",
    "Note how ```reverse()``` is called on the list and mutates it. It doesn't return the mutated list itself. "
   ]
  },
  {
   "cell_type": "code",
   "execution_count": 28,
   "metadata": {},
   "outputs": [
    {
     "name": "stdout",
     "output_type": "stream",
     "text": [
      "['a', 'b', 'c']\n",
      "['c', 'b', 'a']\n"
     ]
    }
   ],
   "source": [
    "li = ['a','b','c']\n",
    "print(li)\n",
    "li.reverse()\n",
    "print(li)\n",
    "#=> ['a', 'b', 'c']\n",
    "#=> ['c', 'b', 'a']"
   ]
  },
  {
   "cell_type": "markdown",
   "metadata": {},
   "source": [
    "### 14. How does string multiplication work?\n",
    "\n",
    "Let's see the results of multiplying the string ```'cat'``` by 3. "
   ]
  },
  {
   "cell_type": "code",
   "execution_count": 29,
   "metadata": {},
   "outputs": [
    {
     "data": {
      "text/plain": [
       "'catcatcat'"
      ]
     },
     "execution_count": 29,
     "metadata": {},
     "output_type": "execute_result"
    }
   ],
   "source": [
    "# the string is concatenated to itself 3 times\n",
    "'cat' * 3\n",
    "#=> 'catcatcat'"
   ]
  },
  {
   "cell_type": "markdown",
   "metadata": {},
   "source": [
    "### 15. How does list multiplication work?\n",
    "\n",
    "Let's see the result of multiplying a list, ```[1, 2, 3]``` by 2. "
   ]
  },
  {
   "cell_type": "code",
   "execution_count": 31,
   "metadata": {},
   "outputs": [
    {
     "data": {
      "text/plain": [
       "[1, 2, 3, 1, 2, 3]"
      ]
     },
     "execution_count": 31,
     "metadata": {},
     "output_type": "execute_result"
    }
   ],
   "source": [
    "# a list is outputted containging the contents of [1, 2, 3] repeated twice. \n",
    "[1,2,3] * 2\n",
    "#=> [1, 2, 3, 1, 2, 3]"
   ]
  },
  {
   "cell_type": "markdown",
   "metadata": {},
   "source": [
    "### 16. What does \"self\" refer to in a class?\n",
    "\n",
    "Self refers to the instance of the class itself. It's how we give methods access to and the ability to update the object they belong to. \n",
    "\n",
    "Below, passing self to ```_init_()``` gives us the ability to set the ```color``` of an instance on initialization. "
   ]
  },
  {
   "cell_type": "code",
   "execution_count": 32,
   "metadata": {},
   "outputs": [
    {
     "data": {
      "text/plain": [
       "'yellow'"
      ]
     },
     "execution_count": 32,
     "metadata": {},
     "output_type": "execute_result"
    }
   ],
   "source": [
    "class Shirt:\n",
    "    def __init__(self, color):\n",
    "        self.color = color\n",
    "        \n",
    "s = Shirt('yellow')\n",
    "s.color\n",
    "#=> 'yellow'"
   ]
  },
  {
   "cell_type": "markdown",
   "metadata": {},
   "source": [
    "### 17. How can you concatenate lists in python?\n",
    "\n",
    "Adding 2 lists together concatenates them. Note that arrays do not function the same way. "
   ]
  },
  {
   "cell_type": "code",
   "execution_count": 33,
   "metadata": {},
   "outputs": [
    {
     "data": {
      "text/plain": [
       "[1, 2, 3, 4, 5]"
      ]
     },
     "execution_count": 33,
     "metadata": {},
     "output_type": "execute_result"
    }
   ],
   "source": [
    "a = [1,2]\n",
    "b = [3,4,5]\n",
    "a + b\n",
    "#=> [1, 2, 3, 4, 5]"
   ]
  },
  {
   "cell_type": "markdown",
   "metadata": {},
   "source": [
    "### 18. What is the difference between a shallow and a deep copy?\n",
    "\n",
    "We'll discuss this in the context of a mutable object, a list. For immutable objects, shallow vs. deep isn't as relevant. \n",
    "\n",
    "Well walk through 3 scenarios. \n",
    "\n",
    "i) Reference the original object. This points a new name, ```li2```, to the same place in memory to which ```li1``` also occurs to ```li2```. "
   ]
  },
  {
   "cell_type": "code",
   "execution_count": 1,
   "metadata": {},
   "outputs": [
    {
     "name": "stdout",
     "output_type": "stream",
     "text": [
      "[['a'], ['b'], ['c'], ['d']]\n"
     ]
    }
   ],
   "source": [
    "li1 = [['a'],['b'],['c']]\n",
    "li2 = li1\n",
    "li1.append(['d'])\n",
    "print(li2)\n",
    "#=> [['a'], ['b'], ['c'], ['d']]"
   ]
  },
  {
   "cell_type": "markdown",
   "metadata": {},
   "source": [
    "ii) Create a shallow copy of the original. We can do this with the ```list()``` constructor. A shallow copy creates a new object, but fills it with references to the original. So adding a new object to the original collection, ```li3```, doesn’t propagate to ```li4```, but modifying one of the objects in li3 will propagate to ```li4```."
   ]
  },
  {
   "cell_type": "code",
   "execution_count": 2,
   "metadata": {},
   "outputs": [
    {
     "name": "stdout",
     "output_type": "stream",
     "text": [
      "[['a'], ['b'], ['c']]\n",
      "[[['X']], ['b'], ['c']]\n"
     ]
    }
   ],
   "source": [
    "li3 = [['a'],['b'],['c']]\n",
    "li4 = list(li3)\n",
    "li3.append([4])\n",
    "print(li4)\n",
    "#=> [['a'], ['b'], ['c']]\n",
    "li3[0][0] = ['X']\n",
    "print(li4)\n",
    "#=> [[['X']], ['b'], ['c']]"
   ]
  },
  {
   "cell_type": "markdown",
   "metadata": {},
   "source": [
    "iii) Create a deep copy. This is done with ```copy.deepcopy()```. the 2 objects are now completely independent and changes to either have no affect on the other. "
   ]
  },
  {
   "cell_type": "code",
   "execution_count": 3,
   "metadata": {},
   "outputs": [
    {
     "name": "stdout",
     "output_type": "stream",
     "text": [
      "[['a'], ['b'], ['c']]\n"
     ]
    }
   ],
   "source": [
    "import copy\n",
    "li5 = [['a'],['b'],['c']]\n",
    "li6 = copy.deepcopy(li5)\n",
    "li5.append([4])\n",
    "li5[0][0] = ['X']\n",
    "print(li6)\n",
    "#=> [['a'], ['b'], ['c']]"
   ]
  },
  {
   "cell_type": "markdown",
   "metadata": {},
   "source": [
    "### 19. What is the difference between lists and arrays?\n",
    "\n",
    "Note: Python's standard library has an array object but here I'm specifically referrring to the commonly used Numpy array. \n",
    "\n",
    "* Lists exist in python's standard library. Arrays are defined by Numpy. \n",
    "* Lists can be populated with different types of data at each index. Arrays require homogenous elements. \n",
    "* Arithmetic on lists adds or removes elements from the list. Arithmetic on arrays fucntions per linear algebra. \n",
    "* Arrays also use less memory and come with significantly more functionality."
   ]
  },
  {
   "cell_type": "markdown",
   "metadata": {},
   "source": [
    "### 20. How to concatenate two arrays?\n",
    "\n",
    "Remember, arrays are not lists. Arrays are from Numbpy and arithmetic functions like linear algebra. \n",
    "\n",
    "We need to use Numpy's concatenate function to do it. "
   ]
  },
  {
   "cell_type": "code",
   "execution_count": 4,
   "metadata": {},
   "outputs": [
    {
     "data": {
      "text/plain": [
       "array([1, 2, 3, 4, 5, 6])"
      ]
     },
     "execution_count": 4,
     "metadata": {},
     "output_type": "execute_result"
    }
   ],
   "source": [
    "import numpy as np\n",
    "a = np.array([1,2,3])\n",
    "b = np.array([4,5,6])\n",
    "np.concatenate((a,b))\n",
    "#=> array([1, 2, 3, 4, 5, 6])"
   ]
  },
  {
   "cell_type": "code",
   "execution_count": null,
   "metadata": {},
   "outputs": [],
   "source": [
    "### 21. What do you like about Python?\n",
    "\n",
    "Python is very readable and there is a pythonic way to do just about everything, meaning a preferred way which is clear and concise. \n",
    "\n",
    "I'd contrast this to Ruby where there are often many ways to do something without a guideline for which is preferred. "
   ]
  },
  {
   "cell_type": "markdown",
   "metadata": {},
   "source": [
    "### 22. What is you favorite library in Python?\n",
    "\n",
    "When working with a lot of data, noth is quite as helfufl as pandas which makes manipulating and visualizing data a breeze.\n"
   ]
  },
  {
   "cell_type": "markdown",
   "metadata": {},
   "source": [
    "### 23. Name mutable and immutable objects\n",
    "\n",
    "Immutable means the state cannot be modified after creation. Examples are: int, float, bool, string and tuple. \n",
    "    \n",
    "Mutable means the state can be modified after creation. Examples are list, dict and set. \n"
   ]
  },
  {
   "cell_type": "markdown",
   "metadata": {},
   "source": [
    "#### 24. How would you round a number to 3 decimal places?\n",
    "\n",
    "Use the ```round(value, decimal_places)``` function. "
   ]
  },
  {
   "cell_type": "code",
   "execution_count": 6,
   "metadata": {},
   "outputs": [
    {
     "data": {
      "text/plain": [
       "5.123"
      ]
     },
     "execution_count": 6,
     "metadata": {},
     "output_type": "execute_result"
    }
   ],
   "source": [
    "# WAS THIS THE METHOD THAT USED DURING EXAM1?\n",
    "a = 5.12345\n",
    "round(a,3)\n",
    "#=> 5.123"
   ]
  },
  {
   "cell_type": "markdown",
   "metadata": {},
   "source": [
    "### 25. How do you slice a list?\n",
    "\n",
    "Slicing notation thkes 3 arguments, ```list[start:stop:step]```, where step is the interval at whcih elements are returned. "
   ]
  },
  {
   "cell_type": "code",
   "execution_count": 7,
   "metadata": {},
   "outputs": [
    {
     "name": "stdout",
     "output_type": "stream",
     "text": [
      "[0, 1]\n",
      "[8, 9]\n",
      "[2, 3, 4, 5, 6, 7]\n",
      "[2, 4, 6]\n"
     ]
    }
   ],
   "source": [
    "a = [0,1,2,3,4,5,6,7,8,9]\n",
    "print(a[:2])\n",
    "#=> [0, 1]\n",
    "print(a[8:])\n",
    "#=> [8, 9]\n",
    "print(a[2:8])\n",
    "#=> [2, 3, 4, 5, 6, 7]\n",
    "print(a[2:8:2])\n",
    "#=> [2, 4, 6]"
   ]
  },
  {
   "cell_type": "markdown",
   "metadata": {},
   "source": [
    "### 26. What is pickling? \n",
    "\n",
    "Pickling is the go-to method of serializing and unserializing objects in Python. \n",
    "\n",
    "In the example below, we serialize and unserialize a list of dictionaries. \n"
   ]
  },
  {
   "cell_type": "code",
   "execution_count": 8,
   "metadata": {},
   "outputs": [
    {
     "name": "stdout",
     "output_type": "stream",
     "text": [
      "[{'id': 1, 'name': 'Stuffy'}, {'id': 2, 'name': 'Fluffy'}]\n"
     ]
    }
   ],
   "source": [
    "import pickle\n",
    "obj = [\n",
    "    {'id':1, 'name':'Stuffy'},\n",
    "    {'id':2, 'name': 'Fluffy'}\n",
    "]\n",
    "with open('file.p', 'wb') as f:\n",
    "    pickle.dump(obj, f)\n",
    "with open('file.p', 'rb') as f:\n",
    "    loaded_obj = pickle.load(f)\n",
    "print(loaded_obj)\n",
    "#=> [{'id': 1, 'name': 'Stuffy'}, {'id': 2, 'name': 'Fluffy'}]"
   ]
  },
  {
   "cell_type": "markdown",
   "metadata": {},
   "source": [
    "### 27. What is the difference between dictionaries and JSON? \n",
    "\n",
    "Dict is python datatype, a collection of indexed but unordered keys and values. \n",
    "\n",
    "JSON is just a string which follows a specified format and is intended for transferring data. "
   ]
  },
  {
   "cell_type": "markdown",
   "metadata": {},
   "source": [
    "### 28. What ORMs have you used in Python?\n",
    "\n",
    "ORMs (object relational mapping) map data models (usually in an app) to database tables and simplifies database transactions. \n",
    "\n",
    "SQLAlchemy is typically used in the context of Flask, and Django has its own ORM. "
   ]
  },
  {
   "cell_type": "markdown",
   "metadata": {},
   "source": [
    "### 29. How do any() and all() work?\n",
    "\n",
    "Any takes a sequence and returns true if any element in the sequence is true. \n",
    "\n",
    "All returns true only if all elements in the sequence are true. "
   ]
  },
  {
   "cell_type": "code",
   "execution_count": 9,
   "metadata": {},
   "outputs": [
    {
     "name": "stdout",
     "output_type": "stream",
     "text": [
      "False\n",
      "True\n",
      "True\n",
      "False\n",
      "False\n",
      "True\n"
     ]
    }
   ],
   "source": [
    "a = [False, False, False]\n",
    "b = [True, False, False]\n",
    "c = [True, True, True]\n",
    "print( any(a) )\n",
    "print( any(b) )\n",
    "print( any(c) )\n",
    "#=> False\n",
    "#=> True\n",
    "#=> True\n",
    "print( all(a) )\n",
    "print( all(b) )\n",
    "print( all(c) )\n",
    "#=> False\n",
    "#=> False\n",
    "#=> True"
   ]
  },
  {
   "cell_type": "markdown",
   "metadata": {},
   "source": [
    "### 30. Are dictionaries or lists faster for lookups? \n",
    "\n",
    "Looking up a value in a list takes O(n) time because the whole list needs to be iterated through until the value is found. \n",
    "\n",
    "Looking up a key in a dictionary takes O(1) time because it's a hash table. \n",
    "\n",
    "This can make a huge time difference if there are a lot values so dictionaries are generally recommended for speed. But they do have other limitations like needing unique keys. "
   ]
  },
  {
   "cell_type": "markdown",
   "metadata": {},
   "source": [
    "### 31. What is the difference between a module and a package?\n",
    "\n",
    "A module is a file (or collection of files) that can be imported together. "
   ]
  },
  {
   "cell_type": "code",
   "execution_count": 2,
   "metadata": {},
   "outputs": [],
   "source": [
    "import sklearn"
   ]
  },
  {
   "cell_type": "markdown",
   "metadata": {},
   "source": [
    "A package is a directory of modules. "
   ]
  },
  {
   "cell_type": "markdown",
   "metadata": {},
   "source": [
    "```from sklearn import cross_validation```"
   ]
  },
  {
   "cell_type": "markdown",
   "metadata": {},
   "source": [
    "### 32. How to increment and decrement an integer in Python?\n",
    "\n",
    "Increments and decrements can be done with ```+=``` and ```-=```."
   ]
  },
  {
   "cell_type": "code",
   "execution_count": 5,
   "metadata": {},
   "outputs": [
    {
     "name": "stdout",
     "output_type": "stream",
     "text": [
      "6\n",
      "4\n",
      "5\n",
      "3\n"
     ]
    }
   ],
   "source": [
    "value = 5\n",
    "value += 1\n",
    "print(value)\n",
    "#=> 6\n",
    "value -= 1\n",
    "value -= 1\n",
    "print(value)\n",
    "#=> 4value = 5\n",
    "value += 1\n",
    "print(value)\n",
    "#=> 6\n",
    "value -= 1\n",
    "value -= 1\n",
    "print(value)\n",
    "#=> 4"
   ]
  },
  {
   "cell_type": "markdown",
   "metadata": {},
   "source": [
    "### 33. How to return the binary of an integer?\n",
    "\n",
    "Use the bin() function. "
   ]
  },
  {
   "cell_type": "code",
   "execution_count": 6,
   "metadata": {},
   "outputs": [
    {
     "data": {
      "text/plain": [
       "'0b101'"
      ]
     },
     "execution_count": 6,
     "metadata": {},
     "output_type": "execute_result"
    }
   ],
   "source": [
    "bin(5)\n",
    "#=> '0b101'"
   ]
  },
  {
   "cell_type": "markdown",
   "metadata": {},
   "source": [
    "### 34. How to remove duplicate elements from a list?\n",
    "\n",
    "This can be done by converting the list to a set then bacm to a list. "
   ]
  },
  {
   "cell_type": "code",
   "execution_count": 7,
   "metadata": {},
   "outputs": [
    {
     "name": "stdout",
     "output_type": "stream",
     "text": [
      "[1, 2, 3]\n"
     ]
    }
   ],
   "source": [
    "# NOTE THAT SETS WILL NOT NECESSARILY MAINTAIN THE ORDER OF A LIST. \n",
    "a = [1,1,1,2,3]\n",
    "a = list(set(a))\n",
    "print(a)\n",
    "#=> [1, 2, 3]"
   ]
  },
  {
   "cell_type": "markdown",
   "metadata": {},
   "source": [
    "### 35. How to check if a value exists in a list?\n",
    "\n",
    "Use ```in```. "
   ]
  },
  {
   "cell_type": "code",
   "execution_count": 10,
   "metadata": {},
   "outputs": [
    {
     "data": {
      "text/plain": [
       "True"
      ]
     },
     "execution_count": 10,
     "metadata": {},
     "output_type": "execute_result"
    }
   ],
   "source": [
    "'a' in ['a','b','c']\n",
    "#=> True\n"
   ]
  },
  {
   "cell_type": "code",
   "execution_count": 11,
   "metadata": {},
   "outputs": [
    {
     "data": {
      "text/plain": [
       "False"
      ]
     },
     "execution_count": 11,
     "metadata": {},
     "output_type": "execute_result"
    }
   ],
   "source": [
    "'a' in [1,2,3]\n",
    "#=> False"
   ]
  },
  {
   "cell_type": "markdown",
   "metadata": {},
   "source": [
    "### 36. What is the difference between append and extend? \n",
    "\n",
    "```append``` adds a value to a list while ```extend``` adds values in another list to a list. "
   ]
  },
  {
   "cell_type": "code",
   "execution_count": 12,
   "metadata": {},
   "outputs": [
    {
     "name": "stdout",
     "output_type": "stream",
     "text": [
      "[1, 2, 3, 6]\n",
      "[1, 2, 3, 4, 5]\n"
     ]
    }
   ],
   "source": [
    "a = [1,2,3]\n",
    "b = [1,2,3]\n",
    "a.append(6)\n",
    "print(a)\n",
    "#=> [1, 2, 3, 6]\n",
    "b.extend([4,5])\n",
    "print(b)\n",
    "#=> [1, 2, 3, 4, 5]"
   ]
  },
  {
   "cell_type": "markdown",
   "metadata": {},
   "source": [
    "### 37. How to take the absolute value of an integer?\n",
    "\n",
    "This can be done with the abs() function."
   ]
  },
  {
   "cell_type": "code",
   "execution_count": 13,
   "metadata": {},
   "outputs": [
    {
     "data": {
      "text/plain": [
       "2"
      ]
     },
     "execution_count": 13,
     "metadata": {},
     "output_type": "execute_result"
    }
   ],
   "source": [
    "abs(2)\n",
    "#=> 2\n"
   ]
  },
  {
   "cell_type": "code",
   "execution_count": 14,
   "metadata": {},
   "outputs": [
    {
     "data": {
      "text/plain": [
       "2"
      ]
     },
     "execution_count": 14,
     "metadata": {},
     "output_type": "execute_result"
    }
   ],
   "source": [
    "abs(-2)\n",
    "#=> 2"
   ]
  },
  {
   "cell_type": "markdown",
   "metadata": {},
   "source": [
    "### 38. How to combine two lists into a list of tuples?\n",
    "\n",
    "You can use the ```zip``` function to combine lists into a list of tuples. This isn't restricted to only using 2 lists. It can also be done with 3 or more. "
   ]
  },
  {
   "cell_type": "code",
   "execution_count": 19,
   "metadata": {},
   "outputs": [
    {
     "data": {
      "text/plain": [
       "[('a', 1), ('b', 2), ('c', 3)]"
      ]
     },
     "execution_count": 19,
     "metadata": {},
     "output_type": "execute_result"
    }
   ],
   "source": [
    "a = ['a','b','c']\n",
    "b = [1,2,3]\n",
    "[(k,v) for k,v in zip(a,b)]\n",
    "#=> [('a', 1), ('b', 2), ('c', 3)]"
   ]
  },
  {
   "cell_type": "markdown",
   "metadata": {},
   "source": [
    "### 39. How can you sort a dictionary by key, alphabetically?\n",
    "\n",
    "You can't \"sort\" a dictionary because dictionaries don't have order but you can return a sorted list of tuples which has the keys and values that are in the dictionary. "
   ]
  },
  {
   "cell_type": "code",
   "execution_count": 20,
   "metadata": {},
   "outputs": [
    {
     "data": {
      "text/plain": [
       "[('a', 1), ('b', 2), ('c', 3), ('d', 4)]"
      ]
     },
     "execution_count": 20,
     "metadata": {},
     "output_type": "execute_result"
    }
   ],
   "source": [
    "d = {'c':3, 'd':4, 'b':2, 'a':1}\n",
    "sorted(d.items())\n",
    "#=> [('a', 1), ('b', 2), ('c', 3), ('d', 4)]"
   ]
  },
  {
   "cell_type": "markdown",
   "metadata": {},
   "source": [
    "### 40. How does a class inherit from another class in Python?\n",
    "\n",
    "In the below example, ```Audi```, inherits from ```Car```. And with that inheritance comes the instance methods of the parent class. "
   ]
  },
  {
   "cell_type": "code",
   "execution_count": 21,
   "metadata": {},
   "outputs": [
    {
     "name": "stdout",
     "output_type": "stream",
     "text": [
      "vroom\n"
     ]
    }
   ],
   "source": [
    "class Car():\n",
    "    def drive(self):\n",
    "        print('vroom')\n",
    "class Audi(Car):\n",
    "    pass\n",
    "audi = Audi()\n",
    "audi.drive()"
   ]
  },
  {
   "cell_type": "markdown",
   "metadata": {},
   "source": [
    "### 41. How can you remove all whitespace from a string?\n",
    "\n",
    "The easiest way is to split the string on whitespace and then rejoin without spaces. "
   ]
  },
  {
   "cell_type": "code",
   "execution_count": 22,
   "metadata": {},
   "outputs": [
    {
     "data": {
      "text/plain": [
       "'Astringwithwhitespace'"
      ]
     },
     "execution_count": 22,
     "metadata": {},
     "output_type": "execute_result"
    }
   ],
   "source": [
    "s = 'A string with     white space'\n",
    "''.join(s.split())\n",
    "#=> 'Astringwithwhitespace'"
   ]
  },
  {
   "cell_type": "markdown",
   "metadata": {},
   "source": [
    "2 readers recommend a more pythonic way to handle this following the Python ethos that ```Explicit is better than Implicit```. It's also faster because python doesn't create a new list object. "
   ]
  },
  {
   "cell_type": "code",
   "execution_count": 23,
   "metadata": {},
   "outputs": [
    {
     "data": {
      "text/plain": [
       "'Astringwithwhitespace'"
      ]
     },
     "execution_count": 23,
     "metadata": {},
     "output_type": "execute_result"
    }
   ],
   "source": [
    "s = 'A string with     white space'\n",
    "s.replace(' ', '')\n",
    "#=> 'Astringwithwhitespace'"
   ]
  },
  {
   "cell_type": "markdown",
   "metadata": {},
   "source": [
    "### 42. Why would you use enumerate() when iterating on a sequence?\n",
    "\n",
    "```enumerate()``` allows tracking index when iterating over a sequence. It's more pythonic than defining and incrementing an integer representing the index. "
   ]
  },
  {
   "cell_type": "code",
   "execution_count": 24,
   "metadata": {},
   "outputs": [
    {
     "name": "stdout",
     "output_type": "stream",
     "text": [
      "0 a\n",
      "1 b\n",
      "2 c\n",
      "3 d\n",
      "4 e\n"
     ]
    }
   ],
   "source": [
    "li = ['a','b','c','d','e']\n",
    "for idx,val in enumerate(li):\n",
    "    print(idx, val)\n",
    "#=> 0 a\n",
    "#=> 1 b\n",
    "#=> 2 c\n",
    "#=> 3 d\n",
    "#=> 4 e"
   ]
  },
  {
   "cell_type": "markdown",
   "metadata": {},
   "source": [
    "### 43. What is the difference between pass, continue and break?\n",
    "\n",
    "```pass``` means do nothing. We typically use it because Python doesn't allow creating a class, function or if-statement without code inside of it. \n",
    "\n",
    "In the example below, an error would be thrown without code inside the ```i>3``` so we use ```pass```. "
   ]
  },
  {
   "cell_type": "code",
   "execution_count": 25,
   "metadata": {},
   "outputs": [
    {
     "name": "stdout",
     "output_type": "stream",
     "text": [
      "1\n",
      "2\n",
      "3\n",
      "4\n",
      "5\n"
     ]
    }
   ],
   "source": [
    "a = [1,2,3,4,5]\n",
    "for i in a:\n",
    "    if i > 3:\n",
    "        pass\n",
    "    print(i)\n",
    "#=> 1\n",
    "#=> 2\n",
    "#=> 3\n",
    "#=> 4\n",
    "#=> 5"
   ]
  },
  {
   "cell_type": "markdown",
   "metadata": {},
   "source": [
    "```continue``` continues to the next element and halts execution for the current element. So ```print(i)``` is never reached for values where ```i < 3.```"
   ]
  },
  {
   "cell_type": "code",
   "execution_count": 27,
   "metadata": {},
   "outputs": [
    {
     "name": "stdout",
     "output_type": "stream",
     "text": [
      "3\n",
      "4\n",
      "5\n"
     ]
    }
   ],
   "source": [
    "for i in a:\n",
    "    if i < 3:\n",
    "        continue\n",
    "    print(i)\n",
    "#=> 3\n",
    "#=> 4\n",
    "#=> 5"
   ]
  },
  {
   "cell_type": "markdown",
   "metadata": {},
   "source": [
    "```break``` breaks the loop and the sequence is no longer iterated over. So elements from 3 onward are not printed. "
   ]
  },
  {
   "cell_type": "code",
   "execution_count": 28,
   "metadata": {},
   "outputs": [
    {
     "name": "stdout",
     "output_type": "stream",
     "text": [
      "1\n",
      "2\n"
     ]
    }
   ],
   "source": [
    "for i in a:\n",
    "    if i == 3:\n",
    "        break\n",
    "    print(i)    \n",
    "#=> 1\n",
    "#=> 2"
   ]
  },
  {
   "cell_type": "markdown",
   "metadata": {},
   "source": [
    "### 44. Convert the following for loop into a list comprehension. \n",
    "\n",
    "This ```for``` loop. "
   ]
  },
  {
   "cell_type": "code",
   "execution_count": 29,
   "metadata": {},
   "outputs": [
    {
     "name": "stdout",
     "output_type": "stream",
     "text": [
      "[2, 3, 4, 5, 6]\n"
     ]
    }
   ],
   "source": [
    "a = [1,2,3,4,5]\n",
    " \n",
    "a2 = []\n",
    "for i in a:\n",
    "     a2.append(i + 1)\n",
    "print(a2)\n",
    "#=> [2, 3, 4, 5, 6]"
   ]
  },
  {
   "cell_type": "markdown",
   "metadata": {},
   "source": [
    "Becomes."
   ]
  },
  {
   "cell_type": "code",
   "execution_count": 31,
   "metadata": {},
   "outputs": [
    {
     "name": "stdout",
     "output_type": "stream",
     "text": [
      "[2, 3, 4, 5, 6]\n"
     ]
    }
   ],
   "source": [
    "# LIST COMPREHENSION IS GENERALLY ACCEPTED AS MORE PYTHONIC WHERE IT'S STILL READABLE. \n",
    "a3 = [i+1 for i in a]\n",
    "print(a3)\n",
    "#=> [2, 3, 4, 5, 6]"
   ]
  },
  {
   "cell_type": "markdown",
   "metadata": {},
   "source": [
    "### 45. Give an example of the ternary operator. \n",
    "\n",
    "The ternary operator is a one-line if/else statement. \n",
    "\n",
    "The syntax looks like ```a if condition else b```.\n"
   ]
  },
  {
   "cell_type": "code",
   "execution_count": 35,
   "metadata": {},
   "outputs": [
    {
     "data": {
      "text/plain": [
       "'less'"
      ]
     },
     "execution_count": 35,
     "metadata": {},
     "output_type": "execute_result"
    }
   ],
   "source": [
    "x = 5\n",
    "y = 10\n",
    "'greater' if x > 6 else 'less'\n",
    "#=> 'less'\n"
   ]
  },
  {
   "cell_type": "code",
   "execution_count": 36,
   "metadata": {},
   "outputs": [
    {
     "data": {
      "text/plain": [
       "'greater'"
      ]
     },
     "execution_count": 36,
     "metadata": {},
     "output_type": "execute_result"
    }
   ],
   "source": [
    "'greater' if y > 6 else 'less'\n",
    "#=> 'greater'"
   ]
  },
  {
   "cell_type": "markdown",
   "metadata": {},
   "source": [
    "### 46. Check if a string only contains numbers. \n",
    "\n",
    "You can use ```isnumeric()```. "
   ]
  },
  {
   "cell_type": "code",
   "execution_count": 37,
   "metadata": {},
   "outputs": [
    {
     "data": {
      "text/plain": [
       "False"
      ]
     },
     "execution_count": 37,
     "metadata": {},
     "output_type": "execute_result"
    }
   ],
   "source": [
    "'123a'.isnumeric()\n",
    "#=> False"
   ]
  },
  {
   "cell_type": "code",
   "execution_count": 39,
   "metadata": {},
   "outputs": [
    {
     "data": {
      "text/plain": [
       "True"
      ]
     },
     "execution_count": 39,
     "metadata": {},
     "output_type": "execute_result"
    }
   ],
   "source": [
    "'123'.isnumeric()\n",
    "#=> True"
   ]
  },
  {
   "cell_type": "markdown",
   "metadata": {},
   "source": [
    "### 47. Check if a string only contains letters. \n",
    "\n",
    "You can use ```isalpha()```"
   ]
  },
  {
   "cell_type": "code",
   "execution_count": 41,
   "metadata": {},
   "outputs": [
    {
     "data": {
      "text/plain": [
       "False"
      ]
     },
     "execution_count": 41,
     "metadata": {},
     "output_type": "execute_result"
    }
   ],
   "source": [
    "'123a'.isalpha()\n",
    "#=> False"
   ]
  },
  {
   "cell_type": "code",
   "execution_count": 42,
   "metadata": {},
   "outputs": [
    {
     "data": {
      "text/plain": [
       "True"
      ]
     },
     "execution_count": 42,
     "metadata": {},
     "output_type": "execute_result"
    }
   ],
   "source": [
    "'a'.isalpha()\n",
    "#=> True"
   ]
  },
  {
   "cell_type": "markdown",
   "metadata": {},
   "source": [
    "### 48. Check if a string only contains numbers and letters. \n",
    "\n",
    "You can use ```isalnum()```.\n"
   ]
  },
  {
   "cell_type": "code",
   "execution_count": 43,
   "metadata": {},
   "outputs": [
    {
     "data": {
      "text/plain": [
       "False"
      ]
     },
     "execution_count": 43,
     "metadata": {},
     "output_type": "execute_result"
    }
   ],
   "source": [
    "'123abc...'.isalnum()\n",
    "#=> False\n"
   ]
  },
  {
   "cell_type": "code",
   "execution_count": 44,
   "metadata": {},
   "outputs": [
    {
     "data": {
      "text/plain": [
       "True"
      ]
     },
     "execution_count": 44,
     "metadata": {},
     "output_type": "execute_result"
    }
   ],
   "source": [
    "'123abc'.isalnum()\n",
    "#=> True"
   ]
  },
  {
   "cell_type": "markdown",
   "metadata": {},
   "source": [
    "### 49. Return a list of keys from a dictionary. \n",
    "\n",
    "This can be done by passing the dictionary to python's ```list()``` constructor, ```list()```.\n"
   ]
  },
  {
   "cell_type": "code",
   "execution_count": 45,
   "metadata": {},
   "outputs": [
    {
     "data": {
      "text/plain": [
       "['id', 'name', 'color', 'speed']"
      ]
     },
     "execution_count": 45,
     "metadata": {},
     "output_type": "execute_result"
    }
   ],
   "source": [
    "d = {'id':7, 'name':'Shiba', 'color':'brown', 'speed':'very slow'}\n",
    "list(d)\n",
    "#=> ['id', 'name', 'color', 'speed']"
   ]
  },
  {
   "cell_type": "markdown",
   "metadata": {},
   "source": [
    "### 50. How do you upper and lowercase a string?\n",
    "\n",
    "You can use the ```upper()``` and ```lower()``` string methods. "
   ]
  },
  {
   "cell_type": "code",
   "execution_count": 49,
   "metadata": {},
   "outputs": [
    {
     "data": {
      "text/plain": [
       "'POTATOCAKE'"
      ]
     },
     "execution_count": 49,
     "metadata": {},
     "output_type": "execute_result"
    }
   ],
   "source": [
    "small_word = 'potatocake'\n",
    "big_word = 'FISHCAKE'\n",
    "small_word.upper()\n",
    "#=> 'POTATOCAKE'"
   ]
  },
  {
   "cell_type": "code",
   "execution_count": 47,
   "metadata": {},
   "outputs": [
    {
     "data": {
      "text/plain": [
       "'fishcake'"
      ]
     },
     "execution_count": 47,
     "metadata": {},
     "output_type": "execute_result"
    }
   ],
   "source": [
    "big_word.lower()\n",
    "#=> 'fishcake'"
   ]
  },
  {
   "cell_type": "markdown",
   "metadata": {},
   "source": [
    "### What is the difference between remove, del, pop?\n",
    "\n",
    "```remove()``` remove the first matching value. "
   ]
  },
  {
   "cell_type": "code",
   "execution_count": 50,
   "metadata": {},
   "outputs": [
    {
     "data": {
      "text/plain": [
       "['a', 'c', 'd']"
      ]
     },
     "execution_count": 50,
     "metadata": {},
     "output_type": "execute_result"
    }
   ],
   "source": [
    "li = ['a','b','c','d']\n",
    "li.remove('b')\n",
    "li\n",
    "#=> ['a', 'c', 'd']"
   ]
  },
  {
   "cell_type": "markdown",
   "metadata": {},
   "source": [
    "```del``` removew an element by index. "
   ]
  },
  {
   "cell_type": "code",
   "execution_count": 51,
   "metadata": {},
   "outputs": [
    {
     "data": {
      "text/plain": [
       "['b', 'c', 'd']"
      ]
     },
     "execution_count": 51,
     "metadata": {},
     "output_type": "execute_result"
    }
   ],
   "source": [
    "li = ['a','b','c','d']\n",
    "del li[0]\n",
    "li\n",
    "#=> ['b', 'c', 'd']"
   ]
  },
  {
   "cell_type": "markdown",
   "metadata": {},
   "source": [
    "```pop()``` removes an element by index and returns that element."
   ]
  },
  {
   "cell_type": "code",
   "execution_count": 52,
   "metadata": {},
   "outputs": [
    {
     "data": {
      "text/plain": [
       "['a', 'b', 'd']"
      ]
     },
     "execution_count": 52,
     "metadata": {},
     "output_type": "execute_result"
    }
   ],
   "source": [
    "li = ['a','b','c','d']\n",
    "li.pop(2)\n",
    "#=> 'c'\n",
    "li\n",
    "#=> ['a', 'b', 'd']"
   ]
  },
  {
   "cell_type": "markdown",
   "metadata": {},
   "source": [
    "### 52. Give an example of dictionary comprehension. \n",
    "\n",
    "Below we'll create dictionary with letters of the alphabet as keysm and index in the alphabet as values. "
   ]
  },
  {
   "cell_type": "code",
   "execution_count": 53,
   "metadata": {},
   "outputs": [
    {
     "data": {
      "text/plain": [
       "{'a': 0,\n",
       " 'b': 1,\n",
       " 'c': 2,\n",
       " 'd': 3,\n",
       " 'e': 4,\n",
       " 'f': 5,\n",
       " 'g': 6,\n",
       " 'h': 7,\n",
       " 'i': 8,\n",
       " 'j': 9,\n",
       " 'k': 10,\n",
       " 'l': 11,\n",
       " 'm': 12,\n",
       " 'n': 13,\n",
       " 'o': 14,\n",
       " 'p': 15,\n",
       " 'q': 16,\n",
       " 'r': 17,\n",
       " 's': 18,\n",
       " 't': 19,\n",
       " 'u': 20,\n",
       " 'v': 21,\n",
       " 'w': 22,\n",
       " 'x': 23,\n",
       " 'y': 24,\n",
       " 'z': 25}"
      ]
     },
     "execution_count": 53,
     "metadata": {},
     "output_type": "execute_result"
    }
   ],
   "source": [
    "# creating a list of letters\n",
    "import string\n",
    "list(string.ascii_lowercase)\n",
    "alphabet = list(string.ascii_lowercase)\n",
    "# list comprehension\n",
    "d = {val:idx for idx,val in enumerate(alphabet)} \n",
    "d\n",
    "#=> {'a': 0,\n",
    "#=>  'b': 1,\n",
    "#=>  'c': 2,\n",
    "#=> ...\n",
    "#=>  'x': 23,\n",
    "#=>  'y': 24,\n",
    "#=>  'z': 25}"
   ]
  },
  {
   "cell_type": "markdown",
   "metadata": {},
   "source": [
    "### (53) How is exception handling performed in Python?\n",
    "Python provides 3 words to handle exceptions, *try*, *except* and *finally*.\n",
    "The syntax looks like this.\n"
   ]
  },
  {
   "cell_type": "code",
   "execution_count": 54,
   "metadata": {},
   "outputs": [
    {
     "name": "stdout",
     "output_type": "stream",
     "text": [
      "complete\n",
      "10\n"
     ]
    }
   ],
   "source": [
    "try:\n",
    "    val = 1 + 'A'\n",
    "except:\n",
    "    val = 10\n",
    "finally:\n",
    "    print('complete')\n",
    "    \n",
    "print(val)"
   ]
  },
  {
   "cell_type": "code",
   "execution_count": null,
   "metadata": {},
   "outputs": [],
   "source": []
  },
  {
   "cell_type": "code",
   "execution_count": null,
   "metadata": {},
   "outputs": [],
   "source": []
  }
 ],
 "metadata": {
  "kernelspec": {
   "display_name": "Python 3",
   "language": "python",
   "name": "python3"
  },
  "language_info": {
   "codemirror_mode": {
    "name": "ipython",
    "version": 3
   },
   "file_extension": ".py",
   "mimetype": "text/x-python",
   "name": "python",
   "nbconvert_exporter": "python",
   "pygments_lexer": "ipython3",
   "version": "3.7.6"
  }
 },
 "nbformat": 4,
 "nbformat_minor": 4
}
