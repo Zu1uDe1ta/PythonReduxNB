{
 "cells": [
  {
   "cell_type": "markdown",
   "metadata": {},
   "source": [
    "# 53 Python Interview Questions and Answers\n",
    "## Python questions for data scientist and software engineers\n",
    "\n",
    "Not so long ago I started a new role as a “Data Scientist” which turned out to be “Python Engineer” in practice.\n",
    "\n",
    "I would have been more prepared if I’d brushed up on Python’s thread lifecycle instead of recommender systems in advance.\n",
    "\n",
    "In that spirit, here are my python interview/job preparation questions and answers. Most data scientists write a lot code so this applies to both scientists and engineers.\n",
    "\n",
    "Whether you’re interviewing candidates, preparing to apply to jobs or just brushing up on Python, I think this list will be invaluable.\n",
    "\n",
    "Questions are unordered. Let’s begin."
   ]
  },
  {
   "cell_type": "markdown",
   "metadata": {},
   "source": [
    "### (1) What is the difference between a list and a tuple?\n",
    "\n",
    "I’ve been asked this question in every python / data science interview I’ve ever had. Know the answer like the back of your hand.\n",
    "\n",
    "- Lists are mutable. They can be modified after creation.\n",
    "- Tuples are immutable. Once a tuple is created it cannot by changed\n",
    "- Lists have order. They are an ordered sequences, typically of the same type of object. Ie: all user names ordered by creation date, ```[\"Seth\", \"Ema\", \"Eli\"]```\n",
    "- Tuples have structure. Different data types may exist at each index. Ie: a database record in memory, ```(2, \"Ema\", \"2020–04–16\") # id, name, created_at```"
   ]
  },
  {
   "cell_type": "markdown",
   "metadata": {},
   "source": [
    "### (2) How is string interpolation performed?\n",
    "\n",
    "Without importing the ```Template``` class, there are 3 ways to interpolate strings. \n",
    "\n",
    "\n",
    "```\n",
    "name = `Chris`\n",
    "\n",
    "#1. f string\n",
    "print(f'Hello {name}')\n",
    "\n",
    "#2. % operator\n",
    "print('Hey %s %s' % (name, name))\n",
    "\n",
    "#3. format\n",
    "print(\n",
    "\"My name is {}\".format((name))\n",
    ")\n",
    "```\n",
    "\n",
    "### (3) What is the difference between \"is\" and \"==\"?\n",
    "\n",
    "Early in my python career I assumed these were the same...hello bugs. So for the record, ```is``` checks identity and ```==``` checkes equality. \n",
    "\n",
    "We'll walk through an example. Create some lists and assign them to names. Note that ```b``` points to the same object as ```a``` in below. \n",
    "\n",
    "```\n",
    "\n",
    "```\n"
   ]
  },
  {
   "cell_type": "code",
   "execution_count": 1,
   "metadata": {},
   "outputs": [],
   "source": [
    "a = [1,2,3]\n",
    "b = a \n",
    "c = [1, 2, 3]"
   ]
  },
  {
   "cell_type": "markdown",
   "metadata": {},
   "source": [
    "check equality and note they are all equal. "
   ]
  },
  {
   "cell_type": "code",
   "execution_count": 2,
   "metadata": {},
   "outputs": [
    {
     "name": "stdout",
     "output_type": "stream",
     "text": [
      "True\n",
      "True\n"
     ]
    }
   ],
   "source": [
    "print(a == b)\n",
    "print(a == c)\n",
    "#=> True\n",
    "#=> True"
   ]
  },
  {
   "cell_type": "markdown",
   "metadata": {},
   "source": [
    "We can verify this by printing their object id's. "
   ]
  },
  {
   "cell_type": "code",
   "execution_count": 3,
   "metadata": {},
   "outputs": [
    {
     "name": "stdout",
     "output_type": "stream",
     "text": [
      "4375724592\n",
      "4375724592\n",
      "4375726032\n"
     ]
    }
   ],
   "source": [
    "print(id(a))\n",
    "print(id(b))\n",
    "print(id(c))\n",
    "#=> 4369567560\n",
    "#=> 4369567560\n",
    "#=> 4369567624"
   ]
  },
  {
   "cell_type": "markdown",
   "metadata": {},
   "source": [
    "```c``` has a different ```id``` than ```a``` and ```b``"
   ]
  },
  {
   "cell_type": "markdown",
   "metadata": {},
   "source": [
    "### (4) What is a decorator?\n",
    "\n",
    "Another question I've been asked in every interview. It deserves a post in itself, but you're prepared if you can walk through writing your own example. \n",
    "\n",
    "A decorator allows adding functionality to an existing function by passing that existing function to a decorator, which executes the exting function as well as additional code. \n",
    "\n",
    "\n",
    "We'll write a decorator that logs when another function is called. \n",
    "\n",
    "**Write the decorator function.** This takes a function, ```func```, as an argument. It also defines a function, ```log_function_called```, which calls ```func()``` and executes some code, ```print(f'{func} called.')```. then it returns the function it defined.         "
   ]
  },
  {
   "cell_type": "code",
   "execution_count": 4,
   "metadata": {},
   "outputs": [],
   "source": [
    "def logging(func):                   \n",
    "    def log_function_called():       \n",
    "        print(f'{func} called.')      \n",
    "        func()                         \n",
    "    return log_function_called     "
   ]
  },
  {
   "cell_type": "markdown",
   "metadata": {},
   "source": [
    "Let’s write other functions that we’ll eventually add the decorator to (but not yet)."
   ]
  },
  {
   "cell_type": "code",
   "execution_count": 5,
   "metadata": {},
   "outputs": [
    {
     "name": "stdout",
     "output_type": "stream",
     "text": [
      "chris\n",
      "naruto\n"
     ]
    }
   ],
   "source": [
    "def my_name():\n",
    "  print('chris')\n",
    "def friends_name():\n",
    "  print('naruto')\n",
    "my_name()\n",
    "friends_name()\n",
    "#=> chris\n",
    "#=> naruto"
   ]
  },
  {
   "cell_type": "markdown",
   "metadata": {},
   "source": [
    "Now add the decorator to both. "
   ]
  },
  {
   "cell_type": "code",
   "execution_count": 6,
   "metadata": {},
   "outputs": [
    {
     "name": "stdout",
     "output_type": "stream",
     "text": [
      "<function my_name at 0x104d284d0> called.\n",
      "chris\n",
      "<function friends_name at 0x104d283b0> called.\n",
      "naruto\n"
     ]
    }
   ],
   "source": [
    "@logging\n",
    "def my_name():\n",
    " print('chris')\n",
    "@logging\n",
    "def friends_name():\n",
    " print('naruto')\n",
    "my_name()\n",
    "friends_name()\n",
    "#=> <function my_name at 0x10fca5a60> called.\n",
    "#=> chris\n",
    "#=> <function friends_name at 0x10fca5f28> called.\n",
    "#=> naruto"
   ]
  },
  {
   "cell_type": "markdown",
   "metadata": {},
   "source": [
    "See how we can now easily add logging to any function we write just by adding ```@logging``` above it."
   ]
  },
  {
   "cell_type": "markdown",
   "metadata": {},
   "source": [
    "### 5. Explain the range function \n",
    "\n",
    "Range generates a list of integes and there are 3 ways to use it. \n",
    "\n",
    "The function takes 1 to 3 arguments. Note I've wrapped each usage in list comprehension so we can see the values generated. \n",
    "\n",
    "```range(stop)```: generate integers from 0 to the \"stop\" integer. "
   ]
  },
  {
   "cell_type": "code",
   "execution_count": 9,
   "metadata": {},
   "outputs": [
    {
     "data": {
      "text/plain": [
       "[0, 1, 2, 3, 4, 5, 6, 7, 8, 9]"
      ]
     },
     "execution_count": 9,
     "metadata": {},
     "output_type": "execute_result"
    }
   ],
   "source": [
    "[i for i in range(10)]\n",
    "#=> [0, 1, 2, 3, 4, 5, 6, 7, 8, 9]"
   ]
  },
  {
   "cell_type": "markdown",
   "metadata": {},
   "source": [
    "```range(start, stop)```: generate integers from the \"start\" to the \"stop\" integer. "
   ]
  },
  {
   "cell_type": "code",
   "execution_count": 11,
   "metadata": {},
   "outputs": [
    {
     "data": {
      "text/plain": [
       "[2, 3, 4, 5, 6, 7, 8, 9]"
      ]
     },
     "execution_count": 11,
     "metadata": {},
     "output_type": "execute_result"
    }
   ],
   "source": [
    "[i for i in range(2,10)]\n",
    "#=> [2, 3, 4, 5, 6, 7, 8, 9]"
   ]
  },
  {
   "cell_type": "code",
   "execution_count": null,
   "metadata": {},
   "outputs": [],
   "source": [
    "```range(start, stop, step)```: generate integers from \"start\" to \"stop\" at intervals of \"step\"."
   ]
  },
  {
   "cell_type": "code",
   "execution_count": null,
   "metadata": {},
   "outputs": [],
   "source": []
  },
  {
   "cell_type": "code",
   "execution_count": null,
   "metadata": {},
   "outputs": [],
   "source": []
  },
  {
   "cell_type": "code",
   "execution_count": null,
   "metadata": {},
   "outputs": [],
   "source": []
  },
  {
   "cell_type": "code",
   "execution_count": null,
   "metadata": {},
   "outputs": [],
   "source": []
  },
  {
   "cell_type": "code",
   "execution_count": null,
   "metadata": {},
   "outputs": [],
   "source": []
  },
  {
   "cell_type": "code",
   "execution_count": null,
   "metadata": {},
   "outputs": [],
   "source": [
    "What is the difference between a list and a tuple?\n",
    "\n",
    "I’ve been asked this question in every python / data science interview I’ve ever had. Know the answer like the back of your hand.\n",
    "\n",
    "- Lists are mutable. They can be modified after creation.\n",
    "- Tuples are immutable. Once a tuple is created it cannot by changed\n",
    "- Lists have order. They are an ordered sequences, typically of the same type of object. Ie: all user names ordered by creation date, [\"Seth\", \"Ema\", \"Eli\"]\n",
    "- Tuples have structure. Different data types may exist at each index. Ie: a database record in memory, (2, \"Ema\", \"2020–04–16\") # id, name, created_at"
   ]
  },
  {
   "cell_type": "markdown",
   "metadata": {},
   "source": [
    "### (53) How is exception handling performed in Python?\n",
    "Python provides 3 words to handle exceptions, *try*, *except* and *finally*.\n",
    "The syntax looks like this.\n"
   ]
  },
  {
   "cell_type": "code",
   "execution_count": 1,
   "metadata": {},
   "outputs": [
    {
     "name": "stdout",
     "output_type": "stream",
     "text": [
      "complete\n",
      "10\n"
     ]
    }
   ],
   "source": [
    "try:\n",
    "    val = 1 + 'A'\n",
    "except:\n",
    "    val = 10\n",
    "finally:\n",
    "    print('complete')\n",
    "    \n",
    "print(val)"
   ]
  },
  {
   "cell_type": "markdown",
   "metadata": {},
   "source": [
    "\n",
    "You're Welcome. Yours Truly, Crazy Uncle Kris."
   ]
  },
  {
   "cell_type": "code",
   "execution_count": null,
   "metadata": {},
   "outputs": [],
   "source": []
  }
 ],
 "metadata": {
  "kernelspec": {
   "display_name": "Python 3",
   "language": "python",
   "name": "python3"
  },
  "language_info": {
   "codemirror_mode": {
    "name": "ipython",
    "version": 3
   },
   "file_extension": ".py",
   "mimetype": "text/x-python",
   "name": "python",
   "nbconvert_exporter": "python",
   "pygments_lexer": "ipython3",
   "version": "3.7.6"
  }
 },
 "nbformat": 4,
 "nbformat_minor": 4
}
